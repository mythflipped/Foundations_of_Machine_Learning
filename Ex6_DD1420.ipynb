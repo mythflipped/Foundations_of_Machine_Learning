{
  "cells": [
    {
      "cell_type": "markdown",
      "metadata": {
        "id": "EDGJPL5HC0ch"
      },
      "source": [
        "# General Instructions"
      ]
    },
    {
      "cell_type": "markdown",
      "metadata": {
        "id": "a9bacf29"
      },
      "source": [
        "Students are allowed to work on this exercise in pairs. Make sure you have formed a group in Canvas with your partner. Each student is responsible for following the [Code of Conduct](https://kth.instructure.com/courses/32018/pages/code-of-conduct). In particular (1) All members of a group are responsible for the group's work, (2) Every student shall honestly disclose any help received and sources used, and (3) Do not copy from other people's solutions.\n",
        "\n",
        "If you need assistance with the exercise, you are encouraged to post a question to the appropriate [Discussion Topic](https://kth.instructure.com/courses/32018/discussion_topics) or sign up for a help session.\n",
        "\n",
        "<br>\n",
        "\n",
        "Make sure you fill in any place that says `YOUR CODE HERE` or \"YOUR ANSWER HERE\" and delete the `raise NotImplementedError()` once you have implemented the solution\n",
        "\n",
        "<br>\n",
        "\n",
        "You should not import any libraries on top of the ones included in the assignment. Derivation questions can be answered using $\\LaTeX$, or you may upload an image of your derivation. To do so in *Google Colab* simply create a text cell, click on the `insert image` icon, and upload an image to the notebook as we have demonstrated below.\n",
        "\n",
        "<br>\n",
        "\n",
        "**Submission** - once you have completed the exercise make sure everything runs as expected by going into `Runtime` -> `Restart and Run all` then download the notebook by clicking `file` -> `download` -> `download .ipynb`. Then **rename the file to include your name** (and **your partner's name** if you have one) as follows\n",
        "\n",
        "<br>\n",
        "\n",
        "`Ex??_LASTNAME_FIRSTNAME_and_LASTNAME_FIRSTNAME.ipynb`\n",
        "\n",
        "<br>\n",
        "\n",
        "where you replace `??` with the correct exercise number. If you are working alone you do not need to include a partner name. Correctly naming the file and including your name (and your partner's) below is worth **1 point** - if you fail to correctly name the file or include your partner's name, *you will lose this point*.\n",
        "\n",
        "<br>\n",
        "\n",
        "Good luck!"
      ]
    },
    {
      "cell_type": "markdown",
      "metadata": {
        "id": "5g-7KY-KlWMR"
      },
      "source": [
        "# Name (1 pts)\n",
        "**Fill in your name and your partner's name below** (and name the `.ipynb` file correctly): <font color=\"red\"> (1 Point) </font>"
      ]
    },
    {
      "cell_type": "markdown",
      "metadata": {
        "id": "3PS4iHP5lY4q"
      },
      "source": [
        "\n",
        "### Student: LAST, FIRST\n",
        "\n",
        "### Partner: LAST, FIRST"
      ]
    },
    {
      "cell_type": "markdown",
      "metadata": {
        "id": "EYzQ4f3klWij"
      },
      "source": [
        "# Exercise 6: Machine learning and kernel methods (25 Points Total)\n",
        "\n",
        "In this exercise, we will work practically with the Kernelization of Linear Regression that we discussed in the lecture notes.  "
      ]
    },
    {
      "cell_type": "code",
      "execution_count": null,
      "metadata": {
        "id": "H5leDQRLlbSd"
      },
      "outputs": [],
      "source": [
        "# General imports for the exercise\n",
        "import numpy as np\n",
        "import matplotlib.pyplot as plt\n",
        "\n",
        "%matplotlib inline\n",
        "\n",
        "# Fixing the random seed for reproducibility\n",
        "RANDOM_SEED=4321\n",
        "np.random.seed(RANDOM_SEED)"
      ]
    },
    {
      "cell_type": "markdown",
      "metadata": {
        "id": "OOsEvZ-TsPy2"
      },
      "source": [
        "# 9. Kernel Linear Regression (6P)"
      ]
    },
    {
      "cell_type": "markdown",
      "metadata": {
        "id": "fNGWe4c6_38t"
      },
      "source": [
        "**9.1** Use the definition of a kernel to explain why kernels are symmetric: $k(x,x') = k(x',x)$. What underlying property is the reason? 1 sentence answer is enough. $\\color{red}{\\text{(2 point)}}$"
      ]
    },
    {
      "cell_type": "markdown",
      "metadata": {
        "id": "_-b2CrBn_38u"
      },
      "source": [
        "YOUR ANSWER HERE"
      ]
    },
    {
      "cell_type": "markdown",
      "metadata": {
        "id": "vhMFkIni_38v"
      },
      "source": [
        "**9.2** One way to check if a given function is a kernel is to show that it can be decomposed into the inner product in some feature space, i.e. $\\langle \\phi(x), \\phi(x') \\rangle$. Given a two-dimensional real-valued input space $x=(x_1, x_2)$, show that $k(x,x')= (x^T x')^2$ is a valid kernel by identifying the corresponding feature map $\\phi(x).$  $\\color{red}{\\text{(4 points)}}$"
      ]
    },
    {
      "cell_type": "markdown",
      "metadata": {
        "id": "xviiKGKN_38v"
      },
      "source": [
        "YOUR ANSWER HERE"
      ]
    },
    {
      "cell_type": "markdown",
      "metadata": {
        "id": "bxUqDXLVlntN"
      },
      "source": [
        "Consider the dataset that is plotted when you run the next cell. Our goal will be to implement ourselves both primal and dual versions of kernelized regression in order to find a good fit to this data and test our understanding."
      ]
    },
    {
      "cell_type": "code",
      "execution_count": null,
      "metadata": {
        "colab": {
          "base_uri": "https://localhost:8080/",
          "height": 279
        },
        "id": "nZTxpUR9l4rt",
        "outputId": "50b41e05-c7b1-48dc-e4a8-e22ecb110334"
      },
      "outputs": [
        {
          "data": {
            "image/png": "[encoded data removed]",
            "text/plain": [
              "<Figure size 432x288 with 1 Axes>"
            ]
          },
          "metadata": {
            "needs_background": "light"
          },
          "output_type": "display_data"
        }
      ],
      "source": [
        "# Generate noisy observations\n",
        "gen_data = lambda t, c : np.sum([a * (t[:,0]**i) for i, a in enumerate(c)], axis=0)\n",
        "\n",
        "n = 50\n",
        "coeff = [-2, 3, 4, -2,-5]\n",
        "X = np.random.uniform(-1.0, 1.0, n).reshape(-1,1)\n",
        "y = gen_data(X, coeff) + np.random.normal(0.0, 0.2, n)\n",
        "\n",
        "# Plot data\n",
        "plt.scatter(X, y, label=\"data\")\n",
        "plt.xlabel(\"x\")\n",
        "plt.ylabel(\"y\")\n",
        "plt.legend()\n",
        "plt.show()"
      ]
    },
    {
      "cell_type": "markdown",
      "metadata": {
        "id": "KT-3UchZ2QD9"
      },
      "source": [
        "**9.3**  Take a look at the documentation of `sklearn.kernel_ridge.KernelRidge` online. This module implements the dual kernelized linear regression we discussed in the lectures.\n",
        "\n",
        "a) Complete the function `fit_ridge` below to returns the trained model following the documentation of sklearn.kernel_ridge.KernelRidge. Use the next cell after to visualize what this function does. Use a polynomial kernel. $\\color{red}{\\text{(2 points)}}$\n",
        "\n",
        "b) What parameters for degree d and l yield a good fit? $\\color{red}{\\text{(2 points)}}$\n",
        "\n",
        "c) What happens if you now increase or decrease the value of l?  $\\color{red}{\\text{(1 point)}}$\n",
        "\n",
        "d) What polynomial p(x) do we converge to as the regularization parameter l tends to +infinity? $\\color{red}{\\text{(1 point)}}$"
      ]
    },
    {
      "cell_type": "markdown",
      "metadata": {
        "id": "9OGo6xvH_38y"
      },
      "source": [
        "YOUR ANSWER TO b), c) , d) HERE"
      ]
    },
    {
      "cell_type": "code",
      "execution_count": null,
      "metadata": {
        "id": "3Zk1rwux8Tsx"
      },
      "outputs": [],
      "source": [
        "from sklearn.kernel_ridge import KernelRidge\n",
        "\n",
        "def fit_ridge(X, y, l, d):\n",
        "    \"\"\"\n",
        "    X: np.ndarray of shape [N, 1]\n",
        "    y: np.ndarray of shape [N]\n",
        "    l: regularization parameter: real value\n",
        "    d: degree of polynomial\n",
        "    Returns:\n",
        "        model: object of type KernelRidge\n",
        "    \"\"\"\n",
        "\n",
        "    # YOUR CODE for a) HERE (hint: you can do it in just 2 lines)\n",
        "    return model"
      ]
    },
    {
      "cell_type": "code",
      "execution_count": null,
      "metadata": {
        "id": "wvpkkOpZ8G1_"
      },
      "outputs": [],
      "source": [
        "# Predict for interval (-1.0, 1.0)\n",
        "X_pred = np.linspace(-1.0, 1.0, 100).reshape(-1,1)\n",
        "# Set your regularization parameter here:\n",
        "l = 0.1\n",
        "degree= 3\n",
        "# Fit kernel regression model\n",
        "y_pred_kernel = fit_ridge(X, y, l, degree).predict(X_pred)\n",
        "\n",
        "\n",
        "# Plot results\n",
        "plt.scatter(X, y, label=\"data\")\n",
        "plt.plot(X_pred, y_pred_kernel, c='orange', label=\"kernel LR\")\n",
        "plt.xlabel(\"x\")\n",
        "plt.ylabel(\"y\")\n",
        "plt.legend()\n",
        "plt.show()"
      ]
    },
    {
      "cell_type": "markdown",
      "metadata": {
        "id": "qio9LFPo_380"
      },
      "source": [
        "**9.4** Let us implement our own version of fit_ridge from scratch using the formulas for the optimal parameters $\\theta$ that we derived in the notes. Hint: use np.eye(n) to create an identity matrix of size n by n.\n",
        "The function Phi below already implements the matrix Phi for the polynomials of up to degree d feature maps from the lecture notes.\n",
        "\n",
        "a) Implement theta_primal which returns the optimal theta vector from the lecture using the primal solution for linear regression with a feature map. ${\\text{(2 points)}}$\n",
        "\n",
        "b) Implement theta_dual which implements the optimal theta vector from the lecture using the dual solution for the linear regression with a feature map. This should give the same result as theta_primal, of course. ${\\text{(2 points)}}$\n",
        "\n",
        "c) Use the prepared code in the next two cells to compute y_pred_primal: the predicted y values from the theta_primal and y_pred_dual: the predicted y values from theta_dual. You should obtain two identical plots which are very similar to the plot above (at least for small regularization). ${\\text{(2 points)}}$\n",
        "\n",
        "\n",
        "\n"
      ]
    },
    {
      "cell_type": "code",
      "execution_count": null,
      "metadata": {
        "id": "koLbT7E8_381"
      },
      "outputs": [],
      "source": [
        "from sklearn.preprocessing import PolynomialFeatures\n",
        "\n",
        "def Phi(X, d):\n",
        "    \"\"\"\n",
        "    X: np.ndarray of shape [N, 1]\n",
        "    Returns:\n",
        "      Phi matrix from lecture corresponding to polynomial feature map,\n",
        "      np.ndarray of shape [N, d+1]\n",
        "    \"\"\"\n",
        "    poly = PolynomialFeatures(d)\n",
        "    return poly.fit_transform(X)\n",
        "\n",
        "\n",
        "def theta_primal(Phi, Ys, l):\n",
        "    \"\"\"\n",
        "    Phi: our matrix Phi as in the lecture notes containing rows of phi(x_i) shape [N, k]\n",
        "    Ys: predicted Y values of shape [N]\n",
        "    l: real valued regularization parameter\n",
        "    Returns: Optimal primal solution to theta, vector in dimension k\n",
        "    \"\"\"\n",
        "    # YOUR_CODE_HERE (can be done in 1-2 lines, but you can expand also)\n",
        "\n",
        "def theta_dual(Phi, Ys, l):\n",
        "    \"\"\"\n",
        "    Phi: our matrix capital Phi as in the lecture notes containing rows of phi(x_i) shape [N, k]\n",
        "    Ys: predicted Y values of shape [N]\n",
        "    l: real valued regularization parameter\n",
        "    Returns: Optimal primal solution to theta, vector in dimension k\n",
        "    \"\"\"\n",
        "    # YOUR_CODE_HERE (can be done in 1-2 lines, but you can expand also)"
      ]
    },
    {
      "cell_type": "code",
      "execution_count": null,
      "metadata": {
        "id": "Gn0Q4ZN2_381"
      },
      "outputs": [],
      "source": [
        "# Predict for interval (-1, 1)\n",
        "X_pred = np.linspace(-1.0, 1.0, 100).reshape(-1,1)\n",
        "# Set your regularization parameter here:\n",
        "l = 0.1\n",
        "degree= 3\n",
        "# implement the estimated function value computation at X_pred: y_pred_primal = ... (should involve theta_primal)\n",
        "y_pred_primal = YOUR_CODE_HERE\n",
        "# Plot results\n",
        "plt.scatter(X, y, label=\"data\")\n",
        "plt.plot(X_pred, y_pred_primal, c='orange', label=\"kernel LR\")\n",
        "plt.xlabel(\"x\")\n",
        "plt.ylabel(\"y\")\n",
        "plt.legend()\n",
        "plt.show()"
      ]
    },
    {
      "cell_type": "code",
      "execution_count": null,
      "metadata": {
        "id": "n9nWFYsf_382"
      },
      "outputs": [],
      "source": [
        "# Predict for interval (-1, 1)\n",
        "X_pred = np.linspace(-1.0, 1.0, 100).reshape(-1,1)\n",
        "# Set your regularization parameter here:\n",
        "l = 0.1\n",
        "degree = 3\n",
        "# implement the estimated function value computation at X_pred: y_pred_ = ... (should involve theta_primal)\n",
        "y_pred_dual = YOUR_CODE_HERE\n",
        "# Plot results\n",
        "plt.scatter(X, y, label=\"data\")\n",
        "plt.plot(X_pred, y_pred_dual, c='orange', label=\"kernel LR\")\n",
        "plt.xlabel(\"x\")\n",
        "plt.ylabel(\"y\")\n",
        "plt.legend()\n",
        "plt.show()"
      ]
    },
    {
      "cell_type": "markdown",
      "metadata": {
        "id": "0cZaFXck_382"
      },
      "source": [
        "**9.5** In the last exercise we have seen practically that both primal and dual solutions to the optimal theta parameter from the lecture notes indeed yield the same result. Now we focus on the dual formulation and rewrite it using the kernel trick so that we can work with kernel functions directly.\n",
        "\n",
        "Have a look at the skeleton code below. It implements the solution of kernel regression using the kernel trick.\n",
        "\n",
        "a) Implement the function Gram that computes a Gram matrix for an input kernel function depending on a parameter as described. ${\\text{(2 points)}}$\n",
        "\n",
        "b) Implement the function kernel_poly. The resulting plot for identical degree and regularization parameters as before should look as the result in the code that used kernel ridge regression from the python ligrary but this time we computed it ourselves using only kernel evaluations. ${\\text{(2 points)}}$\n",
        "\n",
        "c) Implement the function kernel_gauss. Experiment with different sigma values - can you find suitable values and what is the result of changing these?  ${\\text{(2 points)}}$"
      ]
    },
    {
      "cell_type": "code",
      "execution_count": null,
      "metadata": {
        "id": "pWQUhXjj_382"
      },
      "outputs": [],
      "source": [
        "def kernel_poly(x, y, degree):\n",
        "    \"\"\"\n",
        "    x,y: np.ndarray of shape [N, 1] (vectors of dim n)\n",
        "    degree: integer, degree kernel parameter of polynomial kernel\n",
        "    Returns:\n",
        "        real valued Kernel value of polynomial kernel with degree d evaluated at x and y\n",
        "    \"\"\"\n",
        "    # YOUR_CODE_HERE (can be done in 1 line)\n",
        "\n",
        "\n",
        "def kernel_gauss(x, y, sigma):\n",
        "    \"\"\"\n",
        "    x,y: np.ndarray of shape [N, 1] (vectors of dim n)\n",
        "    sigma: real value, sigma kernel parameter of Gaussian kernel\n",
        "\n",
        "    Returns:\n",
        "        real valued kernel value of Gaussian kernel with parameter sigma evaluated at x and y\n",
        "    \"\"\"\n",
        "    # YOUR CODE HERE (can be one in 1 line)\n",
        "\n",
        "\n",
        "def Gram(X, kernel, kernel_param):\n",
        "    \"\"\"\n",
        "    X: np.ndarray of shape [N, 1]\n",
        "    kernel: a kernel *function* with the same input/output signature as kernel_poly and kernel_gauss above\n",
        "    kernel_param: real parameter for the kernel function, e.g. degree for kernel_poly and sigma for kernel_gauss\n",
        "    Returns:\n",
        "      The Gram matrix for the kernel with parameter set to kernel_param: np.ndarray of shape [N, N]\n",
        "    \"\"\"\n",
        "    # YOUR IMPLEMENTATION HERE (can be done in 5 lines)\n",
        "\n",
        "\n",
        "# Recall k(x) from the lecture? This evaluates this function on all X_pred[j] and returns a matrix of results\n",
        "def k_vectors(X, X_pred, kernel, kernel_param):\n",
        "    result = np.zeros([X.shape[0], X_pred.shape[0]])\n",
        "    for i in range(X.shape[0]):\n",
        "        for j in range(X_pred.shape[0]):\n",
        "            result[i, j] = kernel(X[i], X_pred[j], kernel_param)\n",
        "    return result\n",
        "\n",
        "# Determines the solution y_pred prediction value given input data and target X_pred values where we need to\n",
        "# evaluate the solution.\n",
        "def kernel_solution(X, y, X_pred, kernel, kernel_param, l):\n",
        "    inverse = y.dot(np.linalg.inv(Gram(X, kernel, kernel_param) + l * np.eye(X.shape[0])))\n",
        "    return inverse.dot(k_vectors(X, X_pred, kernel, kernel_param))\n"
      ]
    },
    {
      "cell_type": "code",
      "execution_count": null,
      "metadata": {
        "id": "H7BZvShw_383"
      },
      "outputs": [],
      "source": [
        "# Predict for interval (-1, 1)\n",
        "X_pred = np.linspace(-1.0, 1.0, 100).reshape(-1,1)\n",
        "\n",
        "l = 0.1\n",
        "degree= 3\n",
        "sigma = 0.03\n",
        "y_pred_poly = kernel_solution(X, y, X_pred, kernel_poly, degree, l)\n",
        "y_pred_gauss = kernel_solution(X, y, X_pred, kernel_gauss, sigma, l)\n",
        "\n",
        "# Plot results\n",
        "plt.scatter(X, y, label=\"data\")\n",
        "plt.plot(X_pred, y_pred_poly, c='orange', label=\"kernel LR\")\n",
        "plt.xlabel(\"x\")\n",
        "plt.ylabel(\"y\")\n",
        "plt.legend()\n",
        "plt.show()\n",
        "\n",
        "plt.scatter(X, y, label=\"data\")\n",
        "plt.plot(X_pred, y_pred_gauss, c='orange', label=\"kernel LR\")\n",
        "plt.xlabel(\"x\")\n",
        "plt.ylabel(\"y\")\n",
        "plt.legend()\n",
        "plt.show()"
      ]
    },
    {
      "cell_type": "code",
      "execution_count": null,
      "metadata": {
        "id": "Xw6STVjn_384"
      },
      "outputs": [],
      "source": []
    }
  ],
  "metadata": {
    "colab": {
      "collapsed_sections": [
        "3PS4iHP5lY4q"
      ],
      "provenance": []
    },
    "kernelspec": {
      "display_name": "Python 3",
      "language": "python",
      "name": "python3"
    },
    "language_info": {
      "codemirror_mode": {
        "name": "ipython",
        "version": 3
      },
      "file_extension": ".py",
      "mimetype": "text/x-python",
      "name": "python",
      "nbconvert_exporter": "python",
      "pygments_lexer": "ipython3",
      "version": "3.9.2"
    }
  },
  "nbformat": 4,
  "nbformat_minor": 0
}