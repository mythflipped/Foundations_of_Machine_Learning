{
  "nbformat": 4,
  "nbformat_minor": 0,
  "metadata": {
    "colab": {
      "provenance": []
    },
    "kernelspec": {
      "name": "python3",
      "display_name": "Python 3"
    },
    "language_info": {
      "name": "python"
    }
  },
  "cells": [
    {
      "cell_type": "code",
      "source": [
        "#! Required python packages: numpy\n",
        "import numpy as np\n"
      ],
      "metadata": {
        "id": "GOiwSv5ECy6C"
      },
      "execution_count": null,
      "outputs": []
    },
    {
      "cell_type": "markdown",
      "source": [
        "# Exercise 1 - Introduction  (DD1420 VT23)\n",
        "\n",
        "## Instructions\n",
        "\n",
        "This Jupyter Notebook contains the exercises for DD1420 **Module 1 Introduction**. There are a several problems in this exercise, each broken into numbered subproblems, *e.g.* 1.1.1. The points for each problem are marked *e.g.* $\\color{red}{\\text{(} x \\text{ points)}}$. In total, the exercise is worth **12** points and mainly serves to familiarize yourself with the environment and to start working with some basic python functions.\n",
        "\n",
        "<br>\n",
        "\n",
        "Students are allowed to work on this exercise in pairs. Make sure you have formed a group in Canvas with your partner. Each student is responsible for following the [Code of Conduct](https://kth.instructure.com/courses/32018/pages/code-of-conduct). In particular (1) All members of a group are responsible for the group's work, (2) Every student shall honestly disclose any help received and sources used, and (3) Do not copy from other people's solutions.\n",
        "\n",
        "If you need assistance with the exercise, you are encouraged to post a question to the appropriate [Discussion Topic](https://kth.instructure.com/courses/32018/discussion_topics) or sign up for a help session.\n",
        "\n",
        "<br>\n",
        "\n",
        "If you have a google account, you can sign in and create a copy of this notebook \"File->Save a copy in drive\" that you can edit online to complete the assignment and save your progress with. Alternatively, you can also download this notebook to your own computer \"File->Download\", but then you need to make sure that you have all the required python libraries locally installed as well.\n",
        "\n",
        "<br>\n",
        "\n",
        "**Submission** - once you have completed the exercise, download the notebook by clicking `file` -> `download` -> `download .ipynb`. Then **rename the file to include your name and your partner's name** as follows\n",
        "\n",
        "<br>\n",
        "\n",
        "`Ex??_LASTNAME_FIRSTNAME_and_LASTNAME_FIRSTNAME.ipynb`\n",
        "\n",
        "<br>\n",
        "\n",
        "where you replace `??` with the correct exercise number. If you are working alone you do not need to include a partner name. Correctly naming the file and including your name (and your partner's) below is worth **1 point** - if you fail to correctly name the file or include your partner's name, *you will lose this point*.\n",
        "\n",
        "<br>\n",
        "\n",
        "Good luck!"
      ],
      "metadata": {
        "id": "VGQixo7zYq6x"
      }
    },
    {
      "cell_type": "markdown",
      "source": [
        "#Name\n",
        "**Fill in your name and your partner's name below** (and name the `.ipynb` file correctly) $\\color{red}{\\text{(1 point)}}$:\n",
        "\n",
        "<br>\n",
        "\n",
        "### Student 1\n",
        "\n",
        "### Student 2  (if you work with a partner)\n"
      ],
      "metadata": {
        "id": "t3f_-LD5ZIII"
      }
    },
    {
      "cell_type": "markdown",
      "source": [
        "# 1.1 Matrix Multiplication (4 points)"
      ],
      "metadata": {
        "id": "zV_HBAKtZMo5"
      }
    },
    {
      "cell_type": "markdown",
      "source": [
        "Consider the following matrices\n",
        "\n",
        "$$A = \\begin{bmatrix} 1 & 3 & 3 \\\\ 7 & 8 & 1 \\\\ 7 & 2 & 4\\end{bmatrix} \\; , \\; \\; B = \\begin{bmatrix} 0 & 1 & 8 \\\\ 6 & 7 & 5 \\\\ 3 & 0 & 9\\end{bmatrix} $$\n"
      ],
      "metadata": {
        "id": "p9Rl7BS0ZY9v"
      }
    },
    {
      "cell_type": "markdown",
      "source": [
        "We provide a short function to print a matrix."
      ],
      "metadata": {
        "id": "7Q5iR5MlhIoN"
      }
    },
    {
      "cell_type": "code",
      "source": [
        "def print_matrix(X):\n",
        "  \"\"\"\n",
        "  prints the elements of a matrix\n",
        "  input: X (n x m array)\n",
        "  output: prints elements to the screen\n",
        "  \"\"\"\n",
        "  for row in X:\n",
        "    for val in row:\n",
        "      print('{:4}'.format(val), end='')\n",
        "    print('')"
      ],
      "metadata": {
        "id": "DLQ9j9ZsgFUN"
      },
      "execution_count": null,
      "outputs": []
    },
    {
      "cell_type": "markdown",
      "source": [
        "**1.1.1** *Write the matrices $A$ and $B$ as NumPy `int64` arrays and print them using the provided helper function.* $\\color{red}{\\text{(1 point)}}$"
      ],
      "metadata": {
        "id": "k4Hy6kw3bUHK"
      }
    },
    {
      "cell_type": "code",
      "source": [
        "# YOUR CODE HERE\n",
        "\n",
        "print('A = ')\n",
        "print_matrix(A)\n",
        "print('\\nB = ')\n",
        "print_matrix(B)"
      ],
      "metadata": {
        "id": "nuTIN-bMjbdD"
      },
      "execution_count": null,
      "outputs": []
    },
    {
      "cell_type": "markdown",
      "source": [
        "**1.1.2** *Use the NumPy functions to compute $C_1 = A^T B$ and print the result using the provided helper function.* $\\color{red}{\\text{(1 point)}}$"
      ],
      "metadata": {
        "id": "S0TZkIe1hXrH"
      }
    },
    {
      "cell_type": "code",
      "source": [
        "# YOUR CODE HERE"
      ],
      "metadata": {
        "id": "f-cuNCFLjmyv"
      },
      "execution_count": null,
      "outputs": []
    },
    {
      "cell_type": "markdown",
      "source": [
        "**1.1.3** *Write a function to transpose a 2D numpy array without using `transpose`.* $\\color{red}{\\text{(1 point)}}$"
      ],
      "metadata": {
        "id": "HsGQTK5-jsgh"
      }
    },
    {
      "cell_type": "code",
      "source": [
        "def matrix_transpose(X):\n",
        "  \"\"\"\n",
        "  Returns the transpose of a 2D matrix\n",
        "  input: X (n x m array)\n",
        "  output: result (m x n transposed array)\n",
        "  \"\"\"\n",
        "  # YOUR CODE HERE\n",
        "\n",
        "  return result"
      ],
      "metadata": {
        "id": "JpYkqf6DliGq"
      },
      "execution_count": null,
      "outputs": []
    },
    {
      "cell_type": "code",
      "source": [
        "At = matrix_transpose(A)\n",
        "print_matrix(At)"
      ],
      "metadata": {
        "id": "DfIfXpAocaUJ"
      },
      "execution_count": null,
      "outputs": []
    },
    {
      "cell_type": "markdown",
      "source": [
        "**1.1.4** *Write a function to multiply two 2D numpy arrays without using `matmul`. Use it to compute $C_2 = A^T B$ and print the result using the provided helper function.* $\\color{red}{\\text{(1 point)}}$"
      ],
      "metadata": {
        "id": "xVFmyMXgmyWZ"
      }
    },
    {
      "cell_type": "code",
      "source": [
        "C2 = matrix_multiply(matrix_transpose(A), B)\n",
        "print_matrix(C2)\n",
        "assert (C1 == C2).all(), \"Error, matrices should match!\""
      ],
      "metadata": {
        "id": "XxPXG2k_ptoZ"
      },
      "execution_count": null,
      "outputs": []
    },
    {
      "cell_type": "markdown",
      "source": [
        "#1.2 Compute the Gradient (1 point)\n"
      ],
      "metadata": {
        "id": "th0PFYwqEMOi"
      }
    },
    {
      "cell_type": "markdown",
      "source": [
        "Consider the following function\n",
        "$$f(\\text{x}_1,\\text{x}_2) = \\text{x}_1^2 \\text{x}_2 + \\text{x}_1 \\text{x}_2^3 \\in \\mathbb{R} $$\n",
        "\n"
      ],
      "metadata": {
        "id": "CIswYN7ZEf9C"
      }
    },
    {
      "cell_type": "markdown",
      "source": [
        "**1.2.1**  *Manually compute the gradient of $f$, $\\nabla_x f$.*  $\\color{red}{\\text{(1 point)}}$ and type your answer below."
      ],
      "metadata": {
        "id": "vswIXBslF2No"
      }
    },
    {
      "cell_type": "markdown",
      "source": [
        "$\\color{green}{\\text{YOUR ANSWER HERE}}$\n"
      ],
      "metadata": {
        "id": "G3Yqc1soF3aA"
      }
    },
    {
      "cell_type": "markdown",
      "source": [
        "#1.3 Basic Plotting with Matplotlib (6 point)"
      ],
      "metadata": {
        "id": "eX4HOVmUyD4A"
      }
    },
    {
      "cell_type": "markdown",
      "source": [
        "The purpose of this exercise is for you to familiarize yourself with the basics of the matplotlib library: https://matplotlib.org/ and to define a simple python function. The codumentation for the numpy functions below can be found here: https://numpy.org/doc/\n",
        "\n",
        "1.3.1 (2 points) Modify the code below to plot the function sin(x) in red and the function cos(x) in blue in the same plot and over the interval (-3, 3). Make sure you evaluate these function in steps of 0.1 to have a fine resolution in your plot. Consult the documentation for numpy and matplotlib to see how to carry out these modifications."
      ],
      "metadata": {
        "id": "b6jLxhRooc9X"
      }
    },
    {
      "cell_type": "code",
      "source": [
        "import matplotlib.pyplot as plt\n",
        "import numpy as np\n",
        "\n",
        "x = np.arange(-5,5,.3)\n",
        "y = np.sin(x)\n",
        "plt.plot(x,y)\n",
        "plt.show()\n"
      ],
      "metadata": {
        "colab": {
          "base_uri": "https://localhost:8080/",
          "height": 265
        },
        "id": "cqthxn2gpW8H",
        "outputId": "ae56ab9a-503d-43e9-fee0-27cdc9e98b44"
      },
      "execution_count": null,
      "outputs": [
        {
          "output_type": "display_data",
          "data": {
            "text/plain": [
              "<Figure size 432x288 with 1 Axes>"
            ],
            "image/png": "[encoded data removed]"
          },
          "metadata": {
            "needs_background": "light"
          }
        }
      ]
    },
    {
      "cell_type": "markdown",
      "source": [
        "1.3.2 Research the following functions using the documentation: The matplotlib scatter function: https://matplotlib.org/stable/api/_as_gen/matplotlib.pyplot.scatter.html and the numpy random sampling functions: https://numpy.org/doc/1.16/reference/routines.random.html. Your goal is to write a short snipplet of python that produces two plots as described below. Make sure to import the required libraries.\n",
        "\n",
        "<br>\n",
        "\n",
        "1. (2 points) A scatter plot of 1000 samples from the uniform distribution on [0,1] x [0,1] with each sample shown as a blue dot in the plot.\n",
        "\n",
        "\n",
        "\n",
        "2. (2 points) A scatter plot of 1000 samples from the standard normal/Gaussian distribution in 2 dimensions and centered at the origin (0, 0) in two dimensions. Display each sample as a red cross."
      ],
      "metadata": {
        "id": "Zs9K0iY9q-La"
      }
    },
    {
      "cell_type": "code",
      "source": [],
      "metadata": {
        "id": "YbsEl7QZqMQo"
      },
      "execution_count": null,
      "outputs": []
    }
  ]
}